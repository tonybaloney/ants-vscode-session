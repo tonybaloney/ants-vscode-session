{
  "cells": [
    {
      "cell_type": "code",
      "execution_count": 1,
      "source": [
        "%matplotlib widget\n",
        "import pandas as pd\n",
        "\n",
        "df = pd.read_csv('lake-conjola.csv', encoding='utf-8')\n",
        "df\n"
      ],
      "outputs": [
        {
          "output_type": "execute_result",
          "data": {
            "text/plain": [
              "              DateTime  Estuary Name SiteID      LoggerID  SampleDepth (m)  \\\n",
              "0     20/01/2020 12:30  Lake Conjola   CON1  CON1-Surface              0.5   \n",
              "1     20/01/2020 12:45  Lake Conjola   CON1  CON1-Surface              0.5   \n",
              "2     20/01/2020 13:00  Lake Conjola   CON1  CON1-Surface              0.5   \n",
              "3     20/01/2020 13:15  Lake Conjola   CON1  CON1-Surface              0.5   \n",
              "4     20/01/2020 13:30  Lake Conjola   CON1  CON1-Surface              0.5   \n",
              "...                ...           ...    ...           ...              ...   \n",
              "2682  17/02/2020 11:00  Lake Conjola   CON1  CON1-Surface              0.5   \n",
              "2683  17/02/2020 11:15  Lake Conjola   CON1  CON1-Surface              0.5   \n",
              "2684  17/02/2020 11:30  Lake Conjola   CON1  CON1-Surface              0.5   \n",
              "2685  17/02/2020 11:45  Lake Conjola   CON1  CON1-Surface              0.5   \n",
              "2686  17/02/2020 12:00  Lake Conjola   CON1  CON1-Surface              0.5   \n",
              "\n",
              "      Conductivity (uS/cm)  Temp (C)  DO (mg/L)  \n",
              "0                  35444.2     24.95       7.23  \n",
              "1                  34664.3     25.01       7.64  \n",
              "2                  34318.8     25.03       7.66  \n",
              "3                  34164.1     25.06       7.66  \n",
              "4                  34044.5     25.04       7.67  \n",
              "...                    ...       ...        ...  \n",
              "2682                 529.2     24.76       4.08  \n",
              "2683                 528.3     24.75       3.86  \n",
              "2684                 527.9     24.74       4.03  \n",
              "2685                 526.9     24.76       4.14  \n",
              "2686                 526.0     24.76       4.14  \n",
              "\n",
              "[2687 rows x 8 columns]"
            ],
            "text/html": [
              "<div>\n",
              "<style scoped>\n",
              "    .dataframe tbody tr th:only-of-type {\n",
              "        vertical-align: middle;\n",
              "    }\n",
              "\n",
              "    .dataframe tbody tr th {\n",
              "        vertical-align: top;\n",
              "    }\n",
              "\n",
              "    .dataframe thead th {\n",
              "        text-align: right;\n",
              "    }\n",
              "</style>\n",
              "<table border=\"1\" class=\"dataframe\">\n",
              "  <thead>\n",
              "    <tr style=\"text-align: right;\">\n",
              "      <th></th>\n",
              "      <th>DateTime</th>\n",
              "      <th>Estuary Name</th>\n",
              "      <th>SiteID</th>\n",
              "      <th>LoggerID</th>\n",
              "      <th>SampleDepth (m)</th>\n",
              "      <th>Conductivity (uS/cm)</th>\n",
              "      <th>Temp (C)</th>\n",
              "      <th>DO (mg/L)</th>\n",
              "    </tr>\n",
              "  </thead>\n",
              "  <tbody>\n",
              "    <tr>\n",
              "      <th>0</th>\n",
              "      <td>20/01/2020 12:30</td>\n",
              "      <td>Lake Conjola</td>\n",
              "      <td>CON1</td>\n",
              "      <td>CON1-Surface</td>\n",
              "      <td>0.5</td>\n",
              "      <td>35444.2</td>\n",
              "      <td>24.95</td>\n",
              "      <td>7.23</td>\n",
              "    </tr>\n",
              "    <tr>\n",
              "      <th>1</th>\n",
              "      <td>20/01/2020 12:45</td>\n",
              "      <td>Lake Conjola</td>\n",
              "      <td>CON1</td>\n",
              "      <td>CON1-Surface</td>\n",
              "      <td>0.5</td>\n",
              "      <td>34664.3</td>\n",
              "      <td>25.01</td>\n",
              "      <td>7.64</td>\n",
              "    </tr>\n",
              "    <tr>\n",
              "      <th>2</th>\n",
              "      <td>20/01/2020 13:00</td>\n",
              "      <td>Lake Conjola</td>\n",
              "      <td>CON1</td>\n",
              "      <td>CON1-Surface</td>\n",
              "      <td>0.5</td>\n",
              "      <td>34318.8</td>\n",
              "      <td>25.03</td>\n",
              "      <td>7.66</td>\n",
              "    </tr>\n",
              "    <tr>\n",
              "      <th>3</th>\n",
              "      <td>20/01/2020 13:15</td>\n",
              "      <td>Lake Conjola</td>\n",
              "      <td>CON1</td>\n",
              "      <td>CON1-Surface</td>\n",
              "      <td>0.5</td>\n",
              "      <td>34164.1</td>\n",
              "      <td>25.06</td>\n",
              "      <td>7.66</td>\n",
              "    </tr>\n",
              "    <tr>\n",
              "      <th>4</th>\n",
              "      <td>20/01/2020 13:30</td>\n",
              "      <td>Lake Conjola</td>\n",
              "      <td>CON1</td>\n",
              "      <td>CON1-Surface</td>\n",
              "      <td>0.5</td>\n",
              "      <td>34044.5</td>\n",
              "      <td>25.04</td>\n",
              "      <td>7.67</td>\n",
              "    </tr>\n",
              "    <tr>\n",
              "      <th>...</th>\n",
              "      <td>...</td>\n",
              "      <td>...</td>\n",
              "      <td>...</td>\n",
              "      <td>...</td>\n",
              "      <td>...</td>\n",
              "      <td>...</td>\n",
              "      <td>...</td>\n",
              "      <td>...</td>\n",
              "    </tr>\n",
              "    <tr>\n",
              "      <th>2682</th>\n",
              "      <td>17/02/2020 11:00</td>\n",
              "      <td>Lake Conjola</td>\n",
              "      <td>CON1</td>\n",
              "      <td>CON1-Surface</td>\n",
              "      <td>0.5</td>\n",
              "      <td>529.2</td>\n",
              "      <td>24.76</td>\n",
              "      <td>4.08</td>\n",
              "    </tr>\n",
              "    <tr>\n",
              "      <th>2683</th>\n",
              "      <td>17/02/2020 11:15</td>\n",
              "      <td>Lake Conjola</td>\n",
              "      <td>CON1</td>\n",
              "      <td>CON1-Surface</td>\n",
              "      <td>0.5</td>\n",
              "      <td>528.3</td>\n",
              "      <td>24.75</td>\n",
              "      <td>3.86</td>\n",
              "    </tr>\n",
              "    <tr>\n",
              "      <th>2684</th>\n",
              "      <td>17/02/2020 11:30</td>\n",
              "      <td>Lake Conjola</td>\n",
              "      <td>CON1</td>\n",
              "      <td>CON1-Surface</td>\n",
              "      <td>0.5</td>\n",
              "      <td>527.9</td>\n",
              "      <td>24.74</td>\n",
              "      <td>4.03</td>\n",
              "    </tr>\n",
              "    <tr>\n",
              "      <th>2685</th>\n",
              "      <td>17/02/2020 11:45</td>\n",
              "      <td>Lake Conjola</td>\n",
              "      <td>CON1</td>\n",
              "      <td>CON1-Surface</td>\n",
              "      <td>0.5</td>\n",
              "      <td>526.9</td>\n",
              "      <td>24.76</td>\n",
              "      <td>4.14</td>\n",
              "    </tr>\n",
              "    <tr>\n",
              "      <th>2686</th>\n",
              "      <td>17/02/2020 12:00</td>\n",
              "      <td>Lake Conjola</td>\n",
              "      <td>CON1</td>\n",
              "      <td>CON1-Surface</td>\n",
              "      <td>0.5</td>\n",
              "      <td>526.0</td>\n",
              "      <td>24.76</td>\n",
              "      <td>4.14</td>\n",
              "    </tr>\n",
              "  </tbody>\n",
              "</table>\n",
              "<p>2687 rows × 8 columns</p>\n",
              "</div>"
            ]
          },
          "metadata": {},
          "execution_count": 1
        }
      ],
      "metadata": {}
    },
    {
      "cell_type": "code",
      "execution_count": 2,
      "source": [
        "df.plot()"
      ],
      "outputs": [
        {
          "output_type": "display_data",
          "data": {
            "text/plain": [
              "Canvas(toolbar=Toolbar(toolitems=[('Home', 'Reset original view', 'home', 'home'), ('Back', 'Back to previous …"
            ],
            "application/vnd.jupyter.widget-view+json": {
              "version_major": 2,
              "version_minor": 0,
              "model_id": "7790e5d04e0c40d2a5ef569b59580023"
            }
          },
          "metadata": {}
        },
        {
          "output_type": "execute_result",
          "data": {
            "text/plain": [
              "<AxesSubplot:>"
            ]
          },
          "metadata": {},
          "execution_count": 2
        }
      ],
      "metadata": {}
    },
    {
      "cell_type": "code",
      "execution_count": 3,
      "source": [
        "df.plot(x=\"DateTime\", y=\"DO (mg/L)\")\n"
      ],
      "outputs": [
        {
          "output_type": "display_data",
          "data": {
            "text/plain": [
              "Canvas(toolbar=Toolbar(toolitems=[('Home', 'Reset original view', 'home', 'home'), ('Back', 'Back to previous …"
            ],
            "application/vnd.jupyter.widget-view+json": {
              "version_major": 2,
              "version_minor": 0,
              "model_id": "21f6e036be0d4f3fb3d74bb2c66db6e9"
            }
          },
          "metadata": {}
        },
        {
          "output_type": "execute_result",
          "data": {
            "text/plain": [
              "<AxesSubplot:xlabel='DateTime'>"
            ]
          },
          "metadata": {},
          "execution_count": 3
        }
      ],
      "metadata": {}
    },
    {
      "cell_type": "code",
      "execution_count": 4,
      "source": [
        "from sklearn.linear_model import LinearRegression\n",
        "import matplotlib.pyplot as plt\n",
        "X = df.iloc[:, 6].values.reshape(-1, 1)  # Temp\n",
        "Y = df.iloc[:, 7].values.reshape(-1, 1)  # DO\n",
        "linear_regressor = LinearRegression()  # create object for the class\n",
        "linear_regressor.fit(X, Y)  # perform linear regression\n",
        "Y_pred = linear_regressor.predict(X)  # make predictions\n",
        "plt.scatter(X, Y)\n",
        "plt.plot(X, Y_pred, color='red')\n",
        "plt.show()"
      ],
      "outputs": [],
      "metadata": {}
    },
    {
      "cell_type": "code",
      "execution_count": 5,
      "source": [
        "import matplotlib.pyplot as plt\n",
        "from sklearn.cluster import KMeans\n",
        "\n",
        "kmeans = KMeans(n_clusters=3).fit(df[['Temp (C)', 'DO (mg/L)']])\n",
        "centroids = kmeans.cluster_centers_\n",
        "\n",
        "plt.scatter(df['Temp (C)'], df['DO (mg/L)'], c= kmeans.labels_.astype(float), s=50, alpha=0.5)\n",
        "plt.scatter(centroids[:, 0], centroids[:, 1], c='red', s=50)\n",
        "plt.show()"
      ],
      "outputs": [],
      "metadata": {}
    }
  ],
  "metadata": {
    "kernelspec": {
      "name": "python3",
      "display_name": "Python 3.9.5 64-bit ('conda-env': conda)"
    },
    "language_info": {
      "name": "python",
      "version": "3.9.5",
      "mimetype": "text/x-python",
      "codemirror_mode": {
        "name": "ipython",
        "version": 3
      },
      "pygments_lexer": "ipython3",
      "nbconvert_exporter": "python",
      "file_extension": ".py"
    },
    "nteract": {
      "version": "nteract-front-end@1.0.0"
    },
    "interpreter": {
      "hash": "58ffda617245855f205814d4043b88ce403908664877cbabaac98d5ec85bacd1"
    }
  },
  "nbformat": 4,
  "nbformat_minor": 2
}